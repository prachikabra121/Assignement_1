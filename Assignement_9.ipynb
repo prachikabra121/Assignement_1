{
 "cells": [
  {
   "cell_type": "markdown",
   "id": "d702bfcf",
   "metadata": {},
   "source": [
    "1. What is a lambda function in Python, and how does it differ from a regular function?\n",
    "\n",
    "Answer: In Python, a lambda function is a small, anonymous function that can be defined using the lambda keyword. It is also referred to as an \"anonymous function\" because it does not require a formal name like regular functions defined using the def keyword.\n",
    "\n",
    "lambda arguments: expression\n",
    "\n",
    "The main differences between lambda functions and regular functions are as follows:\n",
    "\n",
    "1)Syntax: Lambda functions are defined using the lambda keyword and do not require a function name. Regular functions, on the other hand, are defined using the def keyword followed by a function name.\n",
    "\n",
    "2)Size and Complexity: Lambda functions are typically used for simple, one-line operations. They are concise and don't contain multiple statements or complex control flow. Regular functions can have multiple statements, contain control flow structures like loops and conditionals, and can be as large and complex as needed.\n",
    "\n",
    "3)Return Statement: Lambda functions automatically return the value of the expression they evaluate. Regular functions, however, require an explicit return statement to specify the return value.\n",
    "\n",
    "4)Name: Lambda functions are anonymous and do not have a name associated with them. Regular functions have a name that can be used to refer to them and call them from other parts of the code.\n"
   ]
  },
  {
   "cell_type": "markdown",
   "id": "f2f036d0",
   "metadata": {},
   "source": [
    "2. Can a lambda function in Python have multiple arguments? If yes, how can you define and use them?\n",
    "\n",
    "Answer: Yes, a lambda function in Python can have multiple arguments. You can define and use multiple arguments in a lambda function by specifying them as comma-separated values in the argument list."
   ]
  },
  {
   "cell_type": "code",
   "execution_count": 2,
   "id": "00150184",
   "metadata": {},
   "outputs": [
    {
     "name": "stdout",
     "output_type": "stream",
     "text": [
      "12\n"
     ]
    }
   ],
   "source": [
    "#Ex\n",
    "multiply = lambda x, y: x * y\n",
    "\n",
    "result = multiply(3, 4)\n",
    "print(result)  # Output: 12\n"
   ]
  },
  {
   "cell_type": "markdown",
   "id": "1198dacb",
   "metadata": {},
   "source": [
    "You can define lambda functions with any number of arguments by separating them with commas in the argument list. For example, a lambda function with three arguments would be defined as lambda arg1, arg2, arg3: expression."
   ]
  },
  {
   "cell_type": "markdown",
   "id": "72a8daf7",
   "metadata": {},
   "source": [
    "3. How are lambda functions typically used in Python? Provide an example use case.\n",
    "\n",
    "Answer: Lambda functions in Python are typically used in situations where a small, simple function is needed for a specific purpose, and defining a regular named function would be unnecessary or overly verbose. They are commonly used as arguments to higher-order functions like map(), filter(), and sort(), where a function needs to be applied to each element of a sequence."
   ]
  },
  {
   "cell_type": "code",
   "execution_count": 3,
   "id": "283d0b94",
   "metadata": {},
   "outputs": [
    {
     "name": "stdout",
     "output_type": "stream",
     "text": [
      "[1, 4, 9, 16, 25]\n",
      "[2, 4]\n"
     ]
    }
   ],
   "source": [
    "#EX\n",
    "numbers = [1, 2, 3, 4, 5]\n",
    "\n",
    "# Use map() with a lambda function to square each number in the list\n",
    "squared_numbers = list(map(lambda x: x**2, numbers))\n",
    "print(squared_numbers)  # Output: [1, 4, 9, 16, 25]\n",
    "\n",
    "# Use filter() with a lambda function to filter out odd numbers from the list\n",
    "even_numbers = list(filter(lambda x: x % 2 == 0, numbers))\n",
    "print(even_numbers)  # Output: [2, 4]\n"
   ]
  },
  {
   "cell_type": "markdown",
   "id": "d1f6737e",
   "metadata": {},
   "source": [
    "Lambda functions in these scenarios allow us to define simple functions inline, without the need for a separate function definition. They provide a concise and convenient way to perform operations on sequences of data."
   ]
  },
  {
   "cell_type": "markdown",
   "id": "1a0a30c2",
   "metadata": {},
   "source": [
    "4. What are the advantages and limitations of lambda functions compared to regular functions in Python?\n",
    "\n",
    "Answer: Advantages of Lambda Functions:\n",
    "\n",
    "Concise Syntax: Lambda functions allow you to define small, one-line functions in a compact and concise syntax. They can help reduce code clutter and improve readability when used appropriately.\n",
    "\n",
    "Anonymous Function: Lambda functions are anonymous, meaning they don't require a formal name. This is useful when you need a function for a specific purpose and don't want to define a named function.\n",
    "\n",
    "Simplicity: Lambda functions are well-suited for simple and straightforward operations. They are particularly useful for defining quick functions on the fly without the need for a full function definition.\n",
    "\n",
    "Function as an Argument: Lambda functions are commonly used as arguments to higher-order functions like map(), filter(), and sort(). They allow you to define the function logic inline without explicitly defining a separate function.\n",
    "\n",
    "Limitations of Lambda Functions:\n",
    "\n",
    "Single Expression: Lambda functions are limited to a single expression. They cannot contain multiple statements or complex control flow structures like loops or conditionals. If you need more complex operations, regular functions are more suitable.\n",
    "\n",
    "Readability: While lambda functions can improve code readability for simple operations, they can become less readable when the expression becomes too long or complicated. In such cases, using a regular function with a descriptive name might be more readable.\n",
    "\n",
    "Limited Functionality: Lambda functions are designed for simple and specific use cases. They lack some features of regular functions, such as documentation strings (docstring), default argument values, or the ability to define generator functions.\n",
    "\n",
    "Debugging and Traceability: Since lambda functions are anonymous, it can be challenging to track and debug them when encountering errors. Regular functions with named identifiers provide better traceability and easier debugging.\n",
    "\n",
    "Code Reusability: Lambda functions are not reusable in the same way as regular functions. They lack a named identifier, making it difficult to call them from different parts of the code. Regular functions, on the other hand, can be called from multiple locations, promoting code reuse."
   ]
  },
  {
   "cell_type": "markdown",
   "id": "1d2a8d8a",
   "metadata": {},
   "source": [
    "5. Are lambda functions in Python able to access variables defined outside of their own scope? Explain with an example.\n",
    "\n",
    "Answer: In Python, lambda functions are able to access variables defined outside of their own scope. This concept is known as \"lexical scoping\" or \"closure.\" When a lambda function is defined, it retains access to the variables in its surrounding environment at the time of its creation.\n"
   ]
  },
  {
   "cell_type": "code",
   "execution_count": 1,
   "id": "278b91f5",
   "metadata": {},
   "outputs": [
    {
     "name": "stdout",
     "output_type": "stream",
     "text": [
      "15\n"
     ]
    }
   ],
   "source": [
    "#Example\n",
    "def outer_function():\n",
    "    x = 10\n",
    "\n",
    "    # Define a lambda function that uses the variable x\n",
    "    lambda_function = lambda y: x + y\n",
    "\n",
    "    return lambda_function\n",
    "\n",
    "# Call the outer function to get the lambda function\n",
    "my_lambda = outer_function()\n",
    "\n",
    "# Call the lambda function with an argument\n",
    "result = my_lambda(5)\n",
    "\n",
    "print(result)  # Output: 15\n"
   ]
  },
  {
   "cell_type": "markdown",
   "id": "0ca92955",
   "metadata": {},
   "source": [
    "In this example, we have an outer_function that defines a variable x and a lambda function lambda_function that takes an argument y and adds it to x. When outer_function is called, it creates the lambda function and returns it. The returned lambda function retains access to the x variable even after outer_function has finished executing.\n",
    "\n",
    "After obtaining the lambda function my_lambda, we can call it with an argument 5. Since x is still accessible within the lambda function's scope, it adds 5 to x, resulting in the value 15. Therefore, the final output is 15."
   ]
  },
  {
   "cell_type": "markdown",
   "id": "30543d82",
   "metadata": {},
   "source": [
    "6. Write a lambda function to calculate the square of a given number."
   ]
  },
  {
   "cell_type": "code",
   "execution_count": 4,
   "id": "6023819e",
   "metadata": {},
   "outputs": [
    {
     "name": "stdout",
     "output_type": "stream",
     "text": [
      "25\n"
     ]
    }
   ],
   "source": [
    "square = lambda x: x**2\n",
    "my_number = 5\n",
    "result = square(my_number)\n",
    "print(result)  # Output: 25\n",
    "\n"
   ]
  },
  {
   "cell_type": "markdown",
   "id": "66816951",
   "metadata": {},
   "source": [
    "7. Create a lambda function to find the maximum value in a list of integers."
   ]
  },
  {
   "cell_type": "code",
   "execution_count": 5,
   "id": "bbcc9f7a",
   "metadata": {},
   "outputs": [
    {
     "name": "stdout",
     "output_type": "stream",
     "text": [
      "10\n"
     ]
    }
   ],
   "source": [
    "numbers = [5, 8, 2, 10, 3]\n",
    "\n",
    "max_value = lambda nums: max(nums)\n",
    "result = max_value(numbers)\n",
    "print(result)  # Output: 10\n"
   ]
  },
  {
   "cell_type": "markdown",
   "id": "3c9bd354",
   "metadata": {},
   "source": [
    "8. Implement a lambda function to filter out all the even numbers from a list of integers."
   ]
  },
  {
   "cell_type": "code",
   "execution_count": 6,
   "id": "2a618dfe",
   "metadata": {},
   "outputs": [
    {
     "name": "stdout",
     "output_type": "stream",
     "text": [
      "[2, 4, 6, 8, 10]\n"
     ]
    }
   ],
   "source": [
    "numbers = [1, 2, 3, 4, 5, 6, 7, 8, 9, 10]\n",
    "\n",
    "even_numbers = list(filter(lambda x: x % 2 == 0, numbers))\n",
    "print(even_numbers)  # Output: [2, 4, 6, 8, 10]\n"
   ]
  },
  {
   "cell_type": "markdown",
   "id": "fadb6e9e",
   "metadata": {},
   "source": [
    "9. Write a lambda function to sort a list of strings in ascending order based on the length of each\n",
    "string."
   ]
  },
  {
   "cell_type": "code",
   "execution_count": 7,
   "id": "9adc8023",
   "metadata": {},
   "outputs": [
    {
     "name": "stdout",
     "output_type": "stream",
     "text": [
      "['date', 'apple', 'banana', 'cherry', 'elderberry']\n"
     ]
    }
   ],
   "source": [
    "strings = ['apple', 'banana', 'cherry', 'date', 'elderberry']\n",
    "\n",
    "sorted_strings = sorted(strings, key=lambda s: len(s))\n",
    "print(sorted_strings)  # Output: ['date', 'apple', 'cherry', 'banana', 'elderberry']\n"
   ]
  },
  {
   "cell_type": "markdown",
   "id": "0fee7f69",
   "metadata": {},
   "source": [
    "10. Create a lambda function that takes two lists as input and returns a new list containing the\n",
    "common elements between the two lists."
   ]
  },
  {
   "cell_type": "code",
   "execution_count": 8,
   "id": "f4e2e9b5",
   "metadata": {},
   "outputs": [
    {
     "name": "stdout",
     "output_type": "stream",
     "text": [
      "[4, 5]\n"
     ]
    }
   ],
   "source": [
    "list1 = [1, 2, 3, 4, 5]\n",
    "list2 = [4, 5, 6, 7, 8]\n",
    "\n",
    "common_elements = list(filter(lambda x: x in list1, list2))\n",
    "print(common_elements)  # Output: [4, 5]\n",
    "\n"
   ]
  },
  {
   "cell_type": "markdown",
   "id": "a82d57cf",
   "metadata": {},
   "source": [
    "11. Write a recursive function to calculate the factorial of a given positive integer."
   ]
  },
  {
   "cell_type": "code",
   "execution_count": 9,
   "id": "77db94ad",
   "metadata": {},
   "outputs": [
    {
     "name": "stdout",
     "output_type": "stream",
     "text": [
      "120\n"
     ]
    }
   ],
   "source": [
    "def factorial(n):\n",
    "    if n == 0:\n",
    "        return 1\n",
    "    else:\n",
    "        return n * factorial(n-1)\n",
    "result = factorial(5)\n",
    "print(result)  # Output: 120\n"
   ]
  },
  {
   "cell_type": "markdown",
   "id": "fd3f1db4",
   "metadata": {},
   "source": [
    "12. Implement a recursive function to compute the nth Fibonacci number."
   ]
  },
  {
   "cell_type": "code",
   "execution_count": 10,
   "id": "abd34d36",
   "metadata": {},
   "outputs": [],
   "source": [
    "def fibonacci(n):\n",
    "    if n <= 0:\n",
    "        return None\n",
    "    elif n == 1:\n",
    "        return 0\n",
    "    elif n == 2:\n",
    "        return 1\n",
    "    else:\n",
    "        return fibonacci(n - 1) + fibonacci(n - 2)\n"
   ]
  },
  {
   "cell_type": "code",
   "execution_count": 11,
   "id": "ca6edae4",
   "metadata": {},
   "outputs": [
    {
     "name": "stdout",
     "output_type": "stream",
     "text": [
      "5\n"
     ]
    }
   ],
   "source": [
    "result = fibonacci(6)\n",
    "print(result)  # Output: 5\n"
   ]
  },
  {
   "cell_type": "markdown",
   "id": "59f7cc90",
   "metadata": {},
   "source": [
    "13. Create a recursive function to find the sum of all the elements in a given list."
   ]
  },
  {
   "cell_type": "code",
   "execution_count": 12,
   "id": "b97c5ddb",
   "metadata": {},
   "outputs": [
    {
     "name": "stdout",
     "output_type": "stream",
     "text": [
      "15\n"
     ]
    }
   ],
   "source": [
    "def sum_list_recursive(lst):\n",
    "    if not lst:\n",
    "        return 0\n",
    "    else:\n",
    "        return lst[0] + sum_list_recursive(lst[1:])\n",
    "my_list = [1, 2, 3, 4, 5]\n",
    "result = sum_list_recursive(my_list)\n",
    "print(result)  # Output: 15\n"
   ]
  },
  {
   "cell_type": "markdown",
   "id": "feb624a7",
   "metadata": {},
   "source": [
    "14. Write a recursive function to determine whether a given string is a palindrome."
   ]
  },
  {
   "cell_type": "code",
   "execution_count": 13,
   "id": "787fdddf",
   "metadata": {},
   "outputs": [
    {
     "name": "stdout",
     "output_type": "stream",
     "text": [
      "True\n",
      "False\n"
     ]
    }
   ],
   "source": [
    "def is_palindrome_recursive(string):\n",
    "    if len(string) <= 1:\n",
    "        return True\n",
    "    elif string[0] != string[-1]:\n",
    "        return False\n",
    "    else:\n",
    "        return is_palindrome_recursive(string[1:-1])\n",
    "result1 = is_palindrome_recursive(\"radar\")\n",
    "print(result1)  # Output: True\n",
    "\n",
    "result2 = is_palindrome_recursive(\"hello\")\n",
    "print(result2)  # Output: False\n"
   ]
  },
  {
   "cell_type": "markdown",
   "id": "04054649",
   "metadata": {},
   "source": [
    "15. Implement a recursive function to find the greatest common divisor (GCD) of two positive integers."
   ]
  },
  {
   "cell_type": "code",
   "execution_count": 14,
   "id": "e7c7c965",
   "metadata": {},
   "outputs": [
    {
     "name": "stdout",
     "output_type": "stream",
     "text": [
      "6\n"
     ]
    }
   ],
   "source": [
    "def gcd_recursive(a, b):\n",
    "    if b == 0:\n",
    "        return a\n",
    "    else:\n",
    "        return gcd_recursive(b, a % b)\n",
    "result = gcd_recursive(48, 18)\n",
    "print(result)  # Output: 6\n"
   ]
  },
  {
   "cell_type": "code",
   "execution_count": null,
   "id": "a19e4379",
   "metadata": {},
   "outputs": [],
   "source": []
  }
 ],
 "metadata": {
  "kernelspec": {
   "display_name": "Python 3 (ipykernel)",
   "language": "python",
   "name": "python3"
  },
  "language_info": {
   "codemirror_mode": {
    "name": "ipython",
    "version": 3
   },
   "file_extension": ".py",
   "mimetype": "text/x-python",
   "name": "python",
   "nbconvert_exporter": "python",
   "pygments_lexer": "ipython3",
   "version": "3.10.9"
  }
 },
 "nbformat": 4,
 "nbformat_minor": 5
}
