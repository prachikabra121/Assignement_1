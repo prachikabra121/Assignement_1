{
 "cells": [
  {
   "cell_type": "markdown",
   "id": "ae0551a3",
   "metadata": {},
   "source": [
    "1. In Python, what is the difference between a built-in function and a user-defined function? Provide an\n",
    "example of each.\n",
    "\n",
    "Answer:\n",
    "\n",
    "Functions that readily comes with Python are called built-in functions. Python provides built-in functions like print(), etc. but we can also create your own functions. These functions are known as user defines functions."
   ]
  },
  {
   "cell_type": "code",
   "execution_count": 1,
   "id": "8d385382",
   "metadata": {},
   "outputs": [
    {
     "name": "stdout",
     "output_type": "stream",
     "text": [
      "\n"
     ]
    }
   ],
   "source": [
    "#built in function example\n",
    "\n",
    "print()"
   ]
  },
  {
   "cell_type": "code",
   "execution_count": 2,
   "id": "aa47c2b4",
   "metadata": {},
   "outputs": [
    {
     "data": {
      "text/plain": [
       "5"
      ]
     },
     "execution_count": 2,
     "metadata": {},
     "output_type": "execute_result"
    }
   ],
   "source": [
    "#user defined function\n",
    "def add(a,b):\n",
    "    return a+b\n",
    "add(2,3)"
   ]
  },
  {
   "cell_type": "markdown",
   "id": "5c523326",
   "metadata": {},
   "source": [
    "2. How can you pass arguments to a function in Python? Explain the difference between positional\n",
    "arguments and keyword arguments.\n",
    "\n",
    "Answer: We can pass the arguments during function call.\n",
    "\n",
    "Keyword arguments mean whenever we pass the arguments(or value) by their parameter names at the time of calling the function in Python in which if you change the position of arguments then there will be no change in the output.\n",
    "\n",
    "Positional arguments mean whenever we pass the arguments in the order we have defined function parameters in which if you change the argument position then you may get the unexpected output.\n",
    "\n",
    "On using keyword arguments you will get the correct output because the order of argument doesn’t matter provided the logic of your code is correct. But in the case of positional arguments, you will get more than one output on changing the order of the arguments.\n"
   ]
  },
  {
   "cell_type": "code",
   "execution_count": 3,
   "id": "e15097b7",
   "metadata": {},
   "outputs": [
    {
     "name": "stdout",
     "output_type": "stream",
     "text": [
      "Hi, I am Prince\n",
      "My age is  20\n",
      "Hi, I am Prince\n",
      "My age is  20\n"
     ]
    }
   ],
   "source": [
    "#Example of keyword argument\n",
    "def nameAge(name, age):\n",
    "    print(\"Hi, I am\", name)\n",
    "    print(\"My age is \", age)\n",
    " \n",
    "nameAge(name=\"Prince\", age=20)\n",
    " \n",
    "nameAge(age=20, name=\"Prince\")"
   ]
  },
  {
   "cell_type": "code",
   "execution_count": 4,
   "id": "0f5487ec",
   "metadata": {},
   "outputs": [
    {
     "name": "stdout",
     "output_type": "stream",
     "text": [
      "Case-1:\n",
      "Hi, I am Prince\n",
      "My age is  20\n",
      "\n",
      "Case-2:\n",
      "Hi, I am 20\n",
      "My age is  Prince\n"
     ]
    }
   ],
   "source": [
    "#Example of posional argument\n",
    "def nameAge(name, age):\n",
    "    print(\"Hi, I am\", name)\n",
    "    print(\"My age is \", age)\n",
    " \n",
    "# You will get correct output because argument is given in order\n",
    "print(\"Case-1:\")\n",
    "nameAge(\"Prince\", 20)\n",
    "# You will get incorrect output because argument is not in order\n",
    "print(\"\\nCase-2:\")\n",
    "nameAge(20, \"Prince\")"
   ]
  },
  {
   "cell_type": "markdown",
   "id": "460ee2d5",
   "metadata": {},
   "source": [
    "3. What is the purpose of the return statement in a function? Can a function have multiple return\n",
    "statements? Explain with an example.\n",
    "\n",
    "\n",
    "Answer:The main purpose of fuction is to make a code reusable.\n",
    "Functions in Python. You use functions in programming to bundle a set of instructions that you want to use repeatedly or that, because of their complexity, are better self-contained in a sub-program and called when needed. That means that a function is a piece of code written to carry out a specified task.\n",
    "\n",
    "\n",
    "You can return multiple values from a function in Python. To do so, return a data structure that contains multiple values, like a list containing the number of miles to run each week. Data structures in Python are used to store collections of data, which can be returned from functions."
   ]
  },
  {
   "cell_type": "code",
   "execution_count": 7,
   "id": "f718c658",
   "metadata": {},
   "outputs": [
    {
     "name": "stdout",
     "output_type": "stream",
     "text": [
      "<class 'str'>\n",
      "geeksforgeeks\n"
     ]
    }
   ],
   "source": [
    "def fun():\n",
    "    str = \"geeksforgeeks\"\n",
    "    x = 20\n",
    "    return str\n",
    "            \n",
    "\n",
    "x = fun()\n",
    "print(str)\n",
    "print(x)"
   ]
  },
  {
   "cell_type": "markdown",
   "id": "7d483ceb",
   "metadata": {},
   "source": [
    "4. What are lambda functions in Python? How are they different from regular functions? Provide an\n",
    "example where a lambda function can be useful.\n",
    "\n",
    "Answer: Lambda Functions are anonymous function means that the function is without a name. As we already know that the def keyword is used to define a normal function in Python.\n",
    "\n",
    "Syntax: lambda arguments : expression"
   ]
  },
  {
   "cell_type": "code",
   "execution_count": 9,
   "id": "ab47b5b5",
   "metadata": {},
   "outputs": [
    {
     "name": "stdout",
     "output_type": "stream",
     "text": [
      "Using function defined with `def` keyword, cube: 125\n",
      "Using lambda function, cube: 125\n"
     ]
    }
   ],
   "source": [
    "#Difference between lambda function and normal function\n",
    "def cube(y):\n",
    "    return y*y*y\n",
    " \n",
    "lambda_cube = lambda y: y*y*y\n",
    " \n",
    "# using function defined\n",
    "# using def keyword\n",
    "print(\"Using function defined with `def` keyword, cube:\", cube(5))\n",
    " \n",
    "# using the lambda function\n",
    "print(\"Using lambda function, cube:\", lambda_cube(5))"
   ]
  },
  {
   "cell_type": "markdown",
   "id": "fcccb1d2",
   "metadata": {},
   "source": [
    "5. How does the concept of \"scope\" apply to functions in Python? Explain the difference between local\n",
    "scope and global scope.\n",
    "\n",
    "Answer: \n",
    "A variable is only available from inside the region it is created.This is called scope.\n",
    "\n",
    "A variable created inside a function belongs to the local scope of that function, and can only be used inside that function.\n",
    "\n",
    "A variable created in the main body of the Python code is a global variable and belongs to the global scope.\n",
    "\n",
    "Global variables are available from within any scope, global and local."
   ]
  },
  {
   "cell_type": "markdown",
   "id": "829b4bf4",
   "metadata": {},
   "source": [
    "6. How can you use the \"return\" statement in a Python function to return multiple values?\n",
    "\n",
    "Answer: You can use a return statement to return multiple values from a function. To do that, you just need to supply several return values separated by commas."
   ]
  },
  {
   "cell_type": "code",
   "execution_count": 12,
   "id": "a2adfe21",
   "metadata": {},
   "outputs": [
    {
     "data": {
      "text/plain": [
       "(9, 8)"
      ]
     },
     "execution_count": 12,
     "metadata": {},
     "output_type": "execute_result"
    }
   ],
   "source": [
    "#Example\n",
    "def my_fun():\n",
    "    a=9\n",
    "    b=8\n",
    "    return a,b\n",
    "my_fun()\n"
   ]
  },
  {
   "cell_type": "markdown",
   "id": "010548fc",
   "metadata": {},
   "source": [
    "7. What is the difference between the \"pass by value\" and \"pass by reference\" concepts when it\n",
    "comes to function arguments in Python?\n",
    "\n",
    "Answer:  pass by value  means to provide an argument to a function. Whereas pass by reference means that the argument that has been passed to the function is a reference to a variable that is already existing in the memory."
   ]
  },
  {
   "cell_type": "markdown",
   "id": "e2a9defb",
   "metadata": {},
   "source": [
    "8. Create a function that can intake integer or decimal value and do following operations:\n",
    "a. Logarithmic function (log x)\n",
    "b. Exponential function (exp(x))\n",
    "c. Power function with base 2 (2x)\n",
    "\n",
    "d. Square root"
   ]
  },
  {
   "cell_type": "code",
   "execution_count": 18,
   "id": "ba94cf88",
   "metadata": {},
   "outputs": [
    {
     "name": "stdout",
     "output_type": "stream",
     "text": [
      "Enter number4\n",
      "Enter number8\n",
      "1.3862943611198906\n",
      "54.598150033144236\n",
      "65536.0\n",
      "2.0\n"
     ]
    }
   ],
   "source": [
    "import math\n",
    "x=float(input('Enter number'))\n",
    "y=float(input('Enter number'))\n",
    "print(math.log(x))\n",
    "print(math.exp(x))\n",
    "print(math.pow(x,y))\n",
    "print(math.sqrt(x))"
   ]
  },
  {
   "cell_type": "markdown",
   "id": "abd6a8e9",
   "metadata": {},
   "source": [
    "9. Create a function that takes a full name as an argument and returns first name and last name.\n"
   ]
  },
  {
   "cell_type": "code",
   "execution_count": 19,
   "id": "0c6bccfb",
   "metadata": {},
   "outputs": [],
   "source": [
    "def get_first_last_name(full_name):\n",
    "    # Split the full name into individual components\n",
    "    name_parts = full_name.split()\n",
    "    \n",
    "    # Extract the first name\n",
    "    first_name = name_parts[0]\n",
    "    \n",
    "    # Extract the last name (if available)\n",
    "    last_name = \"\"\n",
    "    if len(name_parts) > 1:\n",
    "        last_name = name_parts[-1]\n",
    "    \n",
    "    # Return the first name and last name as a tuple\n",
    "    return first_name, last_name\n",
    "\n",
    "    "
   ]
  },
  {
   "cell_type": "code",
   "execution_count": 21,
   "id": "3cab575e",
   "metadata": {},
   "outputs": [
    {
     "data": {
      "text/plain": [
       "('prachi', 'kabra')"
      ]
     },
     "execution_count": 21,
     "metadata": {},
     "output_type": "execute_result"
    }
   ],
   "source": [
    "get_first_last_name('prachi kabra')"
   ]
  },
  {
   "cell_type": "code",
   "execution_count": null,
   "id": "ca094a0b",
   "metadata": {},
   "outputs": [],
   "source": []
  }
 ],
 "metadata": {
  "kernelspec": {
   "display_name": "Python 3 (ipykernel)",
   "language": "python",
   "name": "python3"
  },
  "language_info": {
   "codemirror_mode": {
    "name": "ipython",
    "version": 3
   },
   "file_extension": ".py",
   "mimetype": "text/x-python",
   "name": "python",
   "nbconvert_exporter": "python",
   "pygments_lexer": "ipython3",
   "version": "3.10.9"
  }
 },
 "nbformat": 4,
 "nbformat_minor": 5
}
