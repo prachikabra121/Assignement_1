{
 "cells": [
  {
   "cell_type": "raw",
   "id": "dffe88c1",
   "metadata": {},
   "source": [
    "Question1.\n",
    "Ans:Values: ”hello” , -87.8 ,6\n",
    "\n",
    "Expression: * ,  -, / , +"
   ]
  },
  {
   "cell_type": "raw",
   "id": "de0d9a6e",
   "metadata": {},
   "source": [
    "Question2.\n",
    "Ans:A String is a value that represents text and a variable is a name which represents any value.\n"
   ]
  },
  {
   "cell_type": "raw",
   "id": "e4b28a2c",
   "metadata": {},
   "source": [
    "Question3.\n",
    "Ans: Description of three different type of data type are:\n",
    "1)List: List is an ordered collection of data which is mutable and heterogeneous and it is created by placing values under the square box separated by comma.\n",
    "\n",
    "Ex. list = [“Mango”,”Prachi”,5,[“grapes”,”orange”]]\n",
    "\n",
    "2)Tuple: Tuples are ordered collections of data which are immutable and heterogeneous and it is created by placing elements under parenthesis separated by comma.\n",
    "\n",
    "Ex.tup =(1, “prachi”,8.9,”Mango”)\n",
    "\n",
    "3)Dictionary:  Dictionary is a collection of ordered collections of data. Each item stored in the dictionary has a key value making it a key value pair.It is mutable and created by placing key-value pairs inside the curly braces.It is also heterogeneous in nature.\n",
    "\n",
    "Ex.\n",
    "My_dic = {“Rollno”:89, “Percentage”:90,”name”:”Prachi”}\n",
    "\n",
    "\n"
   ]
  },
  {
   "cell_type": "raw",
   "id": "f9ce46db",
   "metadata": {},
   "source": [
    "Question4.\n",
    "Ans:An expression is made up of mathematical operators like +,-,*,/. It performs mathematical operations."
   ]
  },
  {
   "cell_type": "raw",
   "id": "6d6cc415",
   "metadata": {},
   "source": [
    "Question5.\n",
    "Ans:An expression can evaluate a single value but a statement does not evaluate a single value.\n",
    "An expression is a combination of values and operators. All expressions evaluate (that is, reduce) to a single value\n"
   ]
  },
  {
   "cell_type": "raw",
   "id": "1f8b353c",
   "metadata": {},
   "source": [
    "Question6.\n",
    "Ans: After running the below code variable bacon contains value 23.\n"
   ]
  },
  {
   "cell_type": "code",
   "execution_count": 3,
   "id": "c494b4bc",
   "metadata": {},
   "outputs": [
    {
     "name": "stdout",
     "output_type": "stream",
     "text": [
      "23\n"
     ]
    }
   ],
   "source": [
    "bacon = 22\n",
    "bacon + 1\n",
    "print(bacon+1)"
   ]
  },
  {
   "cell_type": "raw",
   "id": "44642fd0",
   "metadata": {},
   "source": [
    "Question7.\n",
    "Ans: the values for following terms :\n",
    "‘spamspamspam’\n",
    "‘spamspamspam’"
   ]
  },
  {
   "cell_type": "code",
   "execution_count": 7,
   "id": "53d7e5db",
   "metadata": {},
   "outputs": [
    {
     "name": "stdout",
     "output_type": "stream",
     "text": [
      "spamspamspam\n",
      "spamspamspam\n"
     ]
    }
   ],
   "source": [
    "a=\"spam\"+\"spamspam\"\n",
    "print(a)\n",
    "b=\"spam\"*3\n",
    "print(b)"
   ]
  },
  {
   "cell_type": "raw",
   "id": "7dc07a8a",
   "metadata": {},
   "source": [
    "Question8.\n",
    "Ans:Because in python as a standard format to declare a variable we cannot start variable names with a number.So that 100 is invalid variable name and eggs is valid variable name."
   ]
  },
  {
   "cell_type": "raw",
   "id": "89baa55a",
   "metadata": {},
   "source": [
    "Question9.\n",
    "Ans:For integer : int(),\n",
    "    Floating-point: float(),\n",
    "    String: str()\n",
    "    "
   ]
  },
  {
   "cell_type": "raw",
   "id": "3752a633",
   "metadata": {},
   "source": [
    "Question10.\n",
    "Ans:‘I have eaten ‘+ 99 + ‘burritos.’\n",
    "    this expression is causing error because 99 is and integer not a string so the operation is incopatible until we convert 99 to string value.\n",
    "    To fix this error use str() to convert integer 99 into string value.\n",
    "    \n"
   ]
  },
  {
   "cell_type": "code",
   "execution_count": 11,
   "id": "a1089a87",
   "metadata": {},
   "outputs": [
    {
     "name": "stdout",
     "output_type": "stream",
     "text": [
      "I have eaten 99 burritos.\n"
     ]
    }
   ],
   "source": [
    "print('I have eaten '+ str(99) + ' burritos.')"
   ]
  },
  {
   "cell_type": "code",
   "execution_count": null,
   "id": "4d916ec4",
   "metadata": {},
   "outputs": [],
   "source": []
  }
 ],
 "metadata": {
  "kernelspec": {
   "display_name": "Python 3 (ipykernel)",
   "language": "python",
   "name": "python3"
  },
  "language_info": {
   "codemirror_mode": {
    "name": "ipython",
    "version": 3
   },
   "file_extension": ".py",
   "mimetype": "text/x-python",
   "name": "python",
   "nbconvert_exporter": "python",
   "pygments_lexer": "ipython3",
   "version": "3.10.9"
  }
 },
 "nbformat": 4,
 "nbformat_minor": 5
}
