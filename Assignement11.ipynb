{
 "cells": [
  {
   "cell_type": "markdown",
   "id": "c7dbda67",
   "metadata": {},
   "source": [
    "1. What is the role of the 'else' block in a try-except statement? Provide an example\n",
    "scenario where it would be useful."
   ]
  },
  {
   "cell_type": "markdown",
   "id": "4b78319a",
   "metadata": {},
   "source": [
    "In a try-except statement, the 'else' block is an optional block that follows all the except blocks. It is executed if no exception occurs within the try block. The 'else' block allows you to specify code that should be executed when no exceptions are raised, providing a way to distinguish between the normal execution of the try block and exception handling.\n",
    "\n",
    "Here's an example scenario where the 'else' block would be useful:"
   ]
  },
  {
   "cell_type": "code",
   "execution_count": 1,
   "id": "aa3a1591",
   "metadata": {},
   "outputs": [
    {
     "name": "stdout",
     "output_type": "stream",
     "text": [
      "Enter the numerator: 6\n",
      "Enter the denominator: 2\n",
      "The division was successful.\n",
      "Result: 3.0\n"
     ]
    }
   ],
   "source": [
    "try:\n",
    "    numerator = int(input(\"Enter the numerator: \"))\n",
    "    denominator = int(input(\"Enter the denominator: \"))\n",
    "    result = numerator / denominator\n",
    "except ZeroDivisionError:\n",
    "    print(\"Error: Division by zero is not allowed.\")\n",
    "else:\n",
    "    print(\"The division was successful.\")\n",
    "    print(\"Result:\", result)\n"
   ]
  },
  {
   "cell_type": "markdown",
   "id": "f027780f",
   "metadata": {},
   "source": [
    "2. Can a try-except block be nested inside another try-except block? Explain with an\n",
    "example."
   ]
  },
  {
   "cell_type": "markdown",
   "id": "574e6db5",
   "metadata": {},
   "source": [
    "Yes, a try-except block can be nested inside another try-except block. This is known as nested exception handling and allows for handling exceptions at different levels of code execution.\n",
    "\n",
    "Here's an example to illustrate nested try-except blocks:"
   ]
  },
  {
   "cell_type": "code",
   "execution_count": 3,
   "id": "496faad5",
   "metadata": {},
   "outputs": [
    {
     "name": "stdout",
     "output_type": "stream",
     "text": [
      "Enter the numerator: 9\n",
      "Enter the denominator: 2.5\n",
      "Error: Invalid input. Please enter valid integers.\n"
     ]
    }
   ],
   "source": [
    "try:\n",
    "    # Outer try block\n",
    "    numerator = int(input(\"Enter the numerator: \"))\n",
    "    denominator = int(input(\"Enter the denominator: \"))\n",
    "\n",
    "    try:\n",
    "        # Inner try block\n",
    "        result = numerator / denominator\n",
    "        print(\"Result:\", result)\n",
    "\n",
    "    except ZeroDivisionError:\n",
    "        print(\"Error: Division by zero occurred inside the inner try-except block\")\n",
    "\n",
    "except ValueError:\n",
    "    print(\"Error: Invalid input. Please enter valid integers.\")\n"
   ]
  },
  {
   "cell_type": "markdown",
   "id": "09343fc1",
   "metadata": {},
   "source": [
    "In this example, there is an outer try block and an inner try block. The outer try block attempts to execute the code inside it, which includes the nested inner try block. The inner try block performs the division operation."
   ]
  },
  {
   "cell_type": "markdown",
   "id": "f71f6fec",
   "metadata": {},
   "source": [
    "3. How can you create a custom exception class in Python? Provide an example that\n",
    "demonstrates its usage."
   ]
  },
  {
   "cell_type": "markdown",
   "id": "12d74b1f",
   "metadata": {},
   "source": [
    "In Python, you can create a custom exception class by creating a new class that inherits from the built-in Exception class or any of its subclasses. By defining a custom exception class, you can create specific exception types that suit your application's needs.\n",
    "\n",
    "Here's an example that demonstrates the creation and usage of a custom exception class:"
   ]
  },
  {
   "cell_type": "code",
   "execution_count": 4,
   "id": "04bcdfe3",
   "metadata": {},
   "outputs": [
    {
     "name": "stdout",
     "output_type": "stream",
     "text": [
      "Custom exception caught: This is a custom exception.\n"
     ]
    }
   ],
   "source": [
    "class MyCustomException(Exception):\n",
    "    pass\n",
    "\n",
    "try:\n",
    "    # Code that may raise the custom exception\n",
    "    raise MyCustomException(\"This is a custom exception.\")\n",
    "\n",
    "except MyCustomException as e:\n",
    "    print(\"Custom exception caught:\", str(e))\n"
   ]
  },
  {
   "cell_type": "markdown",
   "id": "8e0583dd",
   "metadata": {},
   "source": [
    "4. What are some common exceptions that are built-in to Python?"
   ]
  },
  {
   "cell_type": "markdown",
   "id": "b1abf8f5",
   "metadata": {},
   "source": [
    "Python provides a set of built-in exceptions that cover a wide range of error scenarios. Some common exceptions that are built-in to Python include:\n",
    "\n",
    "1)SyntaxError: Raised when there is a syntax error in the code.\n",
    "\n",
    "2)TypeError: Raised when an operation or function is applied to an object of inappropriate type.\n",
    "\n",
    "3)NameError: Raised when a local or global name is not found.\n",
    "\n",
    "4)IndexError: Raised when a sequence index is out of range.\n",
    "\n",
    "5)ValueError: Raised when a function receives an argument of the correct type but an invalid value.\n",
    "\n",
    "6)KeyError: Raised when a dictionary key is not found.\n",
    "\n",
    "7)FileNotFoundError: Raised when a file or directory is requested but cannot be found.\n",
    "\n",
    "8)ZeroDivisionError: Raised when division or modulo operation is performed with zero as the divisor.\n",
    "\n",
    "9)IOError: Raised when an input/output operation fails, such as opening or writing to a file.\n",
    "\n",
    "10)ImportError: Raised when an import statement fails to import a module.\n",
    "\n",
    "11)AttributeError: Raised when an attribute reference or assignment fails.\n",
    "\n",
    "12)OverflowError: Raised when the result of an arithmetic operation is too large to be represented.\n",
    "    "
   ]
  },
  {
   "cell_type": "markdown",
   "id": "e743dd28",
   "metadata": {},
   "source": [
    "5. What is logging in Python, and why is it important in software development?"
   ]
  },
  {
   "cell_type": "markdown",
   "id": "9064cbf2",
   "metadata": {},
   "source": [
    "Logging in Python refers to the process of recording events, messages, and other relevant information during the execution of a program. It is an essential tool for software development and plays a crucial role in monitoring, debugging, and maintaining the quality of software systems.\n",
    "\n",
    "Here are some reasons why logging is important in software development:\n",
    "\n",
    "1.Debugging and Troubleshooting: Logging allows developers to track the flow of a program and capture relevant information about its execution. It helps in identifying and understanding issues, errors, and unexpected behavior. By logging specific messages at critical points in the code, developers can effectively diagnose problems and trace their origins.\n",
    "\n",
    "2.Error and Exception Handling: Logging helps in capturing and recording error messages, stack traces, and other information related to exceptions. It enables developers to analyze and fix issues more easily by providing insights into the context and conditions under which exceptions occur.\n",
    "\n",
    "3.Monitoring and Performance Optimization: Logging can be used to collect data related to performance metrics, such as response times, memory usage, and resource utilization. By analyzing log data, developers can identify bottlenecks, optimize code, and improve the overall performance of the software system.\n",
    "\n",
    "4.Auditing and Compliance: Logging is valuable for auditing and compliance purposes. It provides a record of important events, user actions, and system activities. This information can be used for security audits, regulatory compliance, and forensic analysis.\n",
    "\n",
    "5.Maintenance and Continuous Improvement: Logs serve as a historical record of a software system's behavior. They help in maintaining and evolving the system by providing insights into usage patterns, identifying recurring issues, and tracking changes over time. Logs can guide decision-making for future enhancements, bug fixes, and system updates.\n",
    "\n",
    "\n",
    "\n",
    "\n",
    "\n",
    "\n",
    "\n",
    "\n",
    "\n"
   ]
  },
  {
   "cell_type": "markdown",
   "id": "9266525c",
   "metadata": {},
   "source": [
    "6. Explain the purpose of log levels in Python logging and provide examples of when\n",
    "each log level would be appropriate."
   ]
  },
  {
   "cell_type": "markdown",
   "id": "9a3c4b5f",
   "metadata": {},
   "source": [
    "Log levels in Python logging are used to categorize log messages based on their importance or severity. Each log level represents a specific level of severity or priority, allowing developers to filter and control the verbosity of log messages based on their needs. Python's logging module defines the following log levels:\n",
    "\n",
    "DEBUG: This log level is used for detailed diagnostic information. It is typically used during development and debugging to capture fine-grained information about the program's execution. Example usage: Tracing the flow of code, displaying variable values, or logging intermediate results.\n",
    "\n",
    "INFO: This log level is used for general informational messages. It provides confirmation that certain events or milestones in the program have occurred. Example usage: Logging startup messages, confirming successful operations, or providing high-level progress updates.\n",
    "\n",
    "WARNING: This log level is used for potentially harmful or unexpected events that do not necessarily lead to program failure. It indicates that there may be an issue or a condition that requires attention. Example usage: Warnings about deprecated features, non-critical failures, or unusual but recoverable conditions.\n",
    "\n",
    "ERROR: This log level is used to report errors that prevent the program from functioning correctly. It indicates a problem that may require immediate attention. Example usage: Reporting critical failures, exceptions, or unexpected conditions that impact the program's functionality.\n",
    "\n",
    "CRITICAL: This log level is used for very severe errors or failures that may lead to application termination. It indicates a critical situation that requires immediate action. Example usage: Reporting fatal errors, severe exceptions, or situations where the program cannot continue execution.\n",
    "\n",
    "NOTSET: This log level indicates that no specific log level has been set. It is used when the logger's level is not defined explicitly, and the effective log level is determined by the logger's parent or root logger.\n",
    "\n",
    "\n"
   ]
  },
  {
   "cell_type": "markdown",
   "id": "9b22b7c6",
   "metadata": {},
   "source": [
    "7. What are log formatters in Python logging, and how can you customise the log\n",
    "message format using formatters?"
   ]
  },
  {
   "cell_type": "markdown",
   "id": "3e946038",
   "metadata": {},
   "source": [
    "Log formatters in Python logging are used to define the structure and appearance of log messages. They allow developers to customize how the log messages are formatted, including the layout, timestamp format, log level representation, and additional contextual information.\n",
    "\n",
    "The logging module provides the Formatter class, which is used to create log formatters. The Formatter class provides various formatting options, including placeholders that are replaced with actual values when the log message is emitted.\n",
    "\n",
    "Here's an example of how you can customize the log message format using formatters:"
   ]
  },
  {
   "cell_type": "code",
   "execution_count": 5,
   "id": "7347ad44",
   "metadata": {},
   "outputs": [
    {
     "name": "stderr",
     "output_type": "stream",
     "text": [
      "2023-07-01 17:13:58,851 - DEBUG - This is a debug message.\n",
      "2023-07-01 17:13:58,867 - INFO - This is an info message.\n",
      "2023-07-01 17:13:58,867 - WARNING - This is a warning message.\n",
      "2023-07-01 17:13:58,867 - ERROR - This is an error message.\n"
     ]
    }
   ],
   "source": [
    "import logging\n",
    "\n",
    "# Create a logger\n",
    "logger = logging.getLogger(\"my_logger\")\n",
    "logger.setLevel(logging.DEBUG)\n",
    "\n",
    "# Create a formatter\n",
    "formatter = logging.Formatter(\"%(asctime)s - %(levelname)s - %(message)s\")\n",
    "\n",
    "# Create a handler and set the formatter\n",
    "handler = logging.StreamHandler()\n",
    "handler.setFormatter(formatter)\n",
    "\n",
    "# Add the handler to the logger\n",
    "logger.addHandler(handler)\n",
    "\n",
    "# Log messages with different log levels\n",
    "logger.debug(\"This is a debug message.\")\n",
    "logger.info(\"This is an info message.\")\n",
    "logger.warning(\"This is a warning message.\")\n",
    "logger.error(\"This is an error message.\")\n"
   ]
  },
  {
   "cell_type": "markdown",
   "id": "0b148ade",
   "metadata": {},
   "source": [
    "8. How can you set up logging to capture log messages from multiple modules or\n",
    "classes in a Python application?"
   ]
  },
  {
   "cell_type": "markdown",
   "id": "4608b710",
   "metadata": {},
   "source": [
    "To capture log messages from multiple modules or classes in a Python application, you can set up a centralized logging configuration and define loggers for each module or class. This allows you to manage and configure logging settings for different parts of your application separately.\n",
    "\n",
    "Here's an example of how you can set up logging to capture log messages from multiple modules or classes:"
   ]
  },
  {
   "cell_type": "code",
   "execution_count": 6,
   "id": "c3303163",
   "metadata": {},
   "outputs": [
    {
     "name": "stderr",
     "output_type": "stream",
     "text": [
      "2023-07-01 17:15:17,694 - DEBUG - This is a debug message from module A.\n",
      "2023-07-01 17:15:17,694 - INFO - This is an info message from module A.\n",
      "2023-07-01 17:15:17,694 - WARNING - This is a warning message from module B.\n",
      "2023-07-01 17:15:17,694 - ERROR - This is an error message from module B.\n"
     ]
    }
   ],
   "source": [
    "import logging\n",
    "\n",
    "# Create a logger for module A\n",
    "logger_a = logging.getLogger(\"module_a\")\n",
    "logger_a.setLevel(logging.DEBUG)\n",
    "handler_a = logging.StreamHandler()\n",
    "handler_a.setLevel(logging.DEBUG)\n",
    "formatter_a = logging.Formatter(\"%(asctime)s - %(levelname)s - %(message)s\")\n",
    "handler_a.setFormatter(formatter_a)\n",
    "logger_a.addHandler(handler_a)\n",
    "\n",
    "# Create a logger for module B\n",
    "logger_b = logging.getLogger(\"module_b\")\n",
    "logger_b.setLevel(logging.INFO)\n",
    "handler_b = logging.StreamHandler()\n",
    "handler_b.setLevel(logging.INFO)\n",
    "formatter_b = logging.Formatter(\"%(asctime)s - %(levelname)s - %(message)s\")\n",
    "handler_b.setFormatter(formatter_b)\n",
    "logger_b.addHandler(handler_b)\n",
    "\n",
    "# Log messages from module A\n",
    "logger_a.debug(\"This is a debug message from module A.\")\n",
    "logger_a.info(\"This is an info message from module A.\")\n",
    "\n",
    "# Log messages from module B\n",
    "logger_b.warning(\"This is a warning message from module B.\")\n",
    "logger_b.error(\"This is an error message from module B.\")\n"
   ]
  },
  {
   "cell_type": "markdown",
   "id": "8f26ac0f",
   "metadata": {},
   "source": [
    "9. What is the difference between the logging and print statements in Python? When\n",
    "should you use logging over print statements in a real-world application?"
   ]
  },
  {
   "cell_type": "markdown",
   "id": "8068cd16",
   "metadata": {},
   "source": [
    "The logging and print statements in Python serve different purposes and have distinct features. Here are the main differences between them:\n",
    "\n",
    "1)Destination: The print statement outputs the messages to the standard output (usually the console or terminal), while the logging module provides flexibility to direct the log messages to various destinations, such as files, email, databases, or external logging services. This makes logging suitable for capturing and storing log information in a controlled and centralized manner.\n",
    "\n",
    "2)Granularity and Control: With print statements, you have limited control over the level of detail or granularity of the output. It is typically used for quick debugging or temporary information. On the other hand, the logging module allows you to define different log levels (e.g., DEBUG, INFO, WARNING, ERROR, CRITICAL) and selectively control the verbosity of log messages. This granularity enables you to filter and manage log messages based on their importance, making logging suitable for long-term application monitoring, debugging, and production environments.\n",
    "\n",
    "3)Flexibility: The logging module offers extensive configuration options, including log levels, loggers, handlers, formatters, and filters. This flexibility allows you to customize the logging behavior based on your application's specific needs. With print statements, you have limited options for controlling the output format or filtering based on log levels or other criteria.\n",
    "\n",
    "4)Persistence and Longevity: print statements are transient and do not persist beyond the current execution. Once the program ends or the console output scrolls off the screen, the print statements are lost. Logging, however, provides a means to capture and store log messages persistently, allowing you to review and analyze them later. This is crucial for debugging, auditing, monitoring, and long-term maintenance of the application."
   ]
  },
  {
   "cell_type": "markdown",
   "id": "07a699ae",
   "metadata": {},
   "source": [
    "In a real-world application, you should prefer logging over print statements in the following scenarios:\n",
    "\n",
    "Debugging and Diagnostics: When you need to diagnose issues, trace the flow of execution, and capture detailed information during development or troubleshooting, logging with appropriate log levels and detailed messages can provide a more systematic and comprehensive approach than scattered print statements.\n",
    "\n",
    "Production Environments: In production environments, where you need to monitor the application, detect and investigate errors, and capture important events or exceptions, logging becomes essential. It allows you to log relevant information at different log levels, capture stack traces, and store log messages for future analysis.\n",
    "\n",
    "Long-term Maintenance and Support: Logging is crucial for long-term maintenance and support of the application. It helps in tracking changes, understanding historical behavior, and providing insights into the application's health and performance. By utilizing structured logging with well-defined log levels, you can effectively manage and maintain the software system."
   ]
  },
  {
   "cell_type": "markdown",
   "id": "50469f21",
   "metadata": {},
   "source": [
    "10. Write a Python program that logs a message to a file named \"app.log\" with the\n",
    "following requirements:\n",
    "\n",
    "● The log message should be \"Hello, World!\"\n",
    "\n",
    "● The log level should be set to \"INFO.\"\n",
    "\n",
    "● The log file should append new log entries without overwriting previous ones."
   ]
  },
  {
   "cell_type": "code",
   "execution_count": 8,
   "id": "fce94ced",
   "metadata": {},
   "outputs": [],
   "source": [
    "import logging\n",
    "\n",
    "# Configure logging\n",
    "logging.basicConfig(filename='app.log', level=logging.INFO, filemode='a', format='%(asctime)s - %(levelname)s - %(message)s')\n",
    "\n",
    "# Log the message\n",
    "logging.info('Hello, World!')\n"
   ]
  },
  {
   "cell_type": "markdown",
   "id": "772b1be1",
   "metadata": {},
   "source": [
    "11. Create a Python program that logs an error message to the console and a file named\n",
    "\"errors.log\" if an exception occurs during the program's execution. The error\n",
    "message should include the exception type and a timestamp."
   ]
  },
  {
   "cell_type": "code",
   "execution_count": 9,
   "id": "3a81b479",
   "metadata": {},
   "outputs": [
    {
     "name": "stdout",
     "output_type": "stream",
     "text": [
      "Exception: ValueError, Timestamp: 2023-07-01 17:22:20.785659\n"
     ]
    }
   ],
   "source": [
    "import logging\n",
    "import datetime\n",
    "\n",
    "# Configure logging\n",
    "logging.basicConfig(level=logging.ERROR, format='%(asctime)s - %(levelname)s - %(message)s')\n",
    "\n",
    "try:\n",
    "    # Code that may raise an exception\n",
    "    # ...\n",
    "\n",
    "    # Simulating an exception for demonstration purposes\n",
    "    raise ValueError(\"An error occurred!\")\n",
    "\n",
    "except Exception as e:\n",
    "    # Log the exception\n",
    "    error_message = f\"Exception: {type(e).__name__}, Timestamp: {datetime.datetime.now()}\"\n",
    "    logging.error(error_message)\n",
    "\n",
    "    # Log the exception to a file\n",
    "    logging.basicConfig(filename='errors.log', level=logging.ERROR, format='%(asctime)s - %(levelname)s - %(message)s')\n",
    "    logging.error(error_message)\n",
    "\n",
    "    # Print the exception to the console\n",
    "    print(error_message)\n"
   ]
  },
  {
   "cell_type": "code",
   "execution_count": null,
   "id": "e8e809b6",
   "metadata": {},
   "outputs": [],
   "source": []
  }
 ],
 "metadata": {
  "kernelspec": {
   "display_name": "Python 3 (ipykernel)",
   "language": "python",
   "name": "python3"
  },
  "language_info": {
   "codemirror_mode": {
    "name": "ipython",
    "version": 3
   },
   "file_extension": ".py",
   "mimetype": "text/x-python",
   "name": "python",
   "nbconvert_exporter": "python",
   "pygments_lexer": "ipython3",
   "version": "3.10.9"
  }
 },
 "nbformat": 4,
 "nbformat_minor": 5
}
