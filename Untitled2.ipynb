{
 "cells": [
  {
   "cell_type": "markdown",
   "id": "233ee8ca",
   "metadata": {},
   "source": [
    "1. In the below elements which of them are values or an expression? eg:- values can be\n",
    "integer or string and expressions will be mathematical operators.\n",
    "*\n",
    "&#39;\n",
    "\n",
    "hello&#39;\n",
    "\n",
    "-87.8\n",
    "\n",
    "-\n",
    "/\n",
    "+\n",
    "6"
   ]
  },
  {
   "cell_type": "markdown",
   "id": "70024269",
   "metadata": {},
   "source": [
    "#Answer\n",
    "\n",
    "Values - \n",
    "\n",
    "'Hello'  ,-87.8,  6\n",
    "\n",
    "Expressions: \n",
    "    \n",
    "    * , - , /, +\n"
   ]
  },
  {
   "cell_type": "markdown",
   "id": "5a6f4333",
   "metadata": {},
   "source": [
    "2. What is the difference between string and variable?\n",
    "\n",
    "Answer : \n",
    "    A string is a sequence of characters, such as \"hello world\". A variable is a named storage location in a program that holds a value, such as a number or a string. In most programming languages, a variable is declared with a specific data type, such as an integer or a string, and can be assigned a value. For example, in Python, you can declare a string variable like this:my_string = \"hello world\"And you can assign a new value to it like this:my_string = \"goodbye world\".A variable can also hold a value that is computed by the program. For example, you can declare a variable to hold the sum of two numbers like this:x = 5"
   ]
  },
  {
   "cell_type": "markdown",
   "id": "3a810a5b",
   "metadata": {},
   "source": [
    "3. Describe three different data types.\n",
    "\n",
    "answer: Integers – This value is represented by int class. It contains positive or negative whole numbers (without fractions or decimals). In Python, there is no limit to how long an integer value can be.\n",
    "Ex. x = 5\n",
    "\n",
    "Float – This value is represented by the float class. It is a real number with a floating-point representation. It is specified by a decimal point. Optionally, the character e or E followed by a positive or negative integer may be appended to specify scientific notation.Ex. x=7.89\n",
    "\n",
    "Complex Numbers – Complex number is represented by a complex class. It is specified as (real part) + (imaginary part)j. For example – 2+3j"
   ]
  },
  {
   "cell_type": "markdown",
   "id": "15929935",
   "metadata": {},
   "source": [
    "4. What is an expression made up of? What do all expressions do?\n",
    "Answer:  An expression is a combination of operators and operands that is interpreted to produce some other value.\n",
    "an expression is evaluated as per the precedence of its operators."
   ]
  },
  {
   "cell_type": "markdown",
   "id": "09c49cb8",
   "metadata": {},
   "source": [
    "5. This assignment statements, like spam = 10. What is the difference between an\n",
    "expression and a statement?\n",
    "\n",
    "Answer: An expression evaluates to a single value. A statement does not."
   ]
  },
  {
   "cell_type": "markdown",
   "id": "e15c35c5",
   "metadata": {},
   "source": [
    "6. After running the following code, what does the variable bacon contain?\n",
    "bacon = 22\n",
    "bacon + 1\n",
    "\n",
    "Answer: The bacon variable is set to 20. The bacon + 1 expression does not reassign the value in bacon (that would need an assignment statement: bacon = bacon + 1)"
   ]
  },
  {
   "cell_type": "markdown",
   "id": "ce807b17",
   "metadata": {},
   "source": [
    "7. What should the values of the following two terms be?\n",
    "'spam'+'spamspam'\n",
    "'spam'*3\n",
    "\n",
    "\n",
    "Answer: 1)spamspamspam\n",
    "\n",
    "2)spamspamspam"
   ]
  },
  {
   "cell_type": "code",
   "execution_count": null,
   "id": "d36239b1",
   "metadata": {},
   "outputs": [],
   "source": []
  }
 ],
 "metadata": {
  "kernelspec": {
   "display_name": "Python 3 (ipykernel)",
   "language": "python",
   "name": "python3"
  },
  "language_info": {
   "codemirror_mode": {
    "name": "ipython",
    "version": 3
   },
   "file_extension": ".py",
   "mimetype": "text/x-python",
   "name": "python",
   "nbconvert_exporter": "python",
   "pygments_lexer": "ipython3",
   "version": "3.10.9"
  }
 },
 "nbformat": 4,
 "nbformat_minor": 5
}
