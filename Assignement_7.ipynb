{
 "cells": [
  {
   "cell_type": "markdown",
   "id": "67265cef",
   "metadata": {},
   "source": [
    "Q.1. Create two int type variables, apply addition, subtraction, division and multiplications\n",
    "and store the results in variables. Then print the data in the following format by calling the\n",
    "variables:"
   ]
  },
  {
   "cell_type": "code",
   "execution_count": 11,
   "id": "7079ffe9",
   "metadata": {},
   "outputs": [
    {
     "name": "stdout",
     "output_type": "stream",
     "text": [
      "First variable is 8 & second variable is 2 .\n",
      "Addition: 8 + 2 = 10\n",
      "Subtraction : 8 - 2 = 6\n",
      "Division : 8 / b = 4.0\n",
      "Multiplication: 8 * 2 = 16\n"
     ]
    }
   ],
   "source": [
    "a=8\n",
    "b=2\n",
    "#addition\n",
    "add = a+b \n",
    "\n",
    "#substraction\n",
    "sub = a-b\n",
    "\n",
    "#division\n",
    "div = a/b\n",
    "\n",
    "#multiplication\n",
    "mul=a*b\n",
    "\n",
    "print(\"First variable is\",a ,\"& second variable is\",b,\".\")\n",
    "\n",
    "print('Addition:',a,'+',b,'=',add)\n",
    "print('Subtraction :',a,'-',b,'=',sub)\n",
    "print('Division :',a,'/','b','=',div)\n",
    "print('Multiplication:',a,'*',b,'=',mul)\n"
   ]
  },
  {
   "cell_type": "markdown",
   "id": "bc478439",
   "metadata": {},
   "source": [
    "Q.2. What is the difference between the following operators:\n",
    "    \n",
    "Answer:\n",
    "    \n",
    "(i) ‘/’ & ‘//’ : / is regular division(returns float) and // is floor division(returns int).\n",
    "    x = 5/2 #2.5 \n",
    "    y = 5//2 #2 \n",
    "\n",
    "\n",
    "(ii) ‘**’ & ‘^’: : ** is a arithmetic operator which performs Exponentiation operation and ^ is a bitwise operator performs XOR operation.Sets each bit to 1 if only one of two bits is 1.\n",
    "    \n",
    "    print(2**3)#8\n",
    "    \n",
    "    print(6 ^ 3)\n",
    "#6 = 0000000000000110\n",
    "\n",
    "#3 = 0000000000000011\n",
    "\n",
    "#--------------------\n",
    "\n",
    "#5 = 0000000000000101"
   ]
  },
  {
   "cell_type": "markdown",
   "id": "72d5d013",
   "metadata": {},
   "source": [
    "Q.3. List the logical operators.\n",
    "\n",
    "Answer: and : Returns True if both statements are true \n",
    "        \n",
    "        or : Returns True if one of the statements is true\n",
    "            \n",
    "        not : Reverse the result, returns False if the result is true"
   ]
  },
  {
   "cell_type": "markdown",
   "id": "3c536c24",
   "metadata": {},
   "source": [
    "Q.4. Explain right shift operator and left shift operator with examples.\n",
    "\n",
    "Answer :\n",
    "    \n",
    "    >>(Right Shift):Shift right by pushing copies of the leftmost bit in from the left, and let the rightmost bits fall off.\n",
    "        \n",
    "        Ex.\n",
    "        print(8 >> 2) # 8 = 0000000000001000\n",
    "         \n",
    "                      # 2 = 0000000000000010\n",
    "        \n",
    "        \n",
    "    <<(Left Shift): Shift left by pushing zeros in from the right and let the leftmost bits fall off\n",
    "        \n",
    "        Ex.\n",
    "        print(3 << 2)  # 3 = 0000000000000011\n",
    "        \n",
    "                       #12 = 0000000000001100\n"
   ]
  },
  {
   "cell_type": "markdown",
   "id": "51ba0c9f",
   "metadata": {},
   "source": [
    "Q.5. Create a list containing int type data of length 15. Then write a code to check if 10 is\n",
    "present in the list or not."
   ]
  },
  {
   "cell_type": "code",
   "execution_count": 14,
   "id": "47a17357",
   "metadata": {},
   "outputs": [
    {
     "name": "stdout",
     "output_type": "stream",
     "text": [
      "True\n"
     ]
    }
   ],
   "source": [
    "l =[1,2,3,4,5,6,7,8,9,10,11,12,13,14,15]\n",
    "print(10 in l)"
   ]
  },
  {
   "cell_type": "code",
   "execution_count": null,
   "id": "2fc3abc8",
   "metadata": {},
   "outputs": [],
   "source": []
  }
 ],
 "metadata": {
  "kernelspec": {
   "display_name": "Python 3 (ipykernel)",
   "language": "python",
   "name": "python3"
  },
  "language_info": {
   "codemirror_mode": {
    "name": "ipython",
    "version": 3
   },
   "file_extension": ".py",
   "mimetype": "text/x-python",
   "name": "python",
   "nbconvert_exporter": "python",
   "pygments_lexer": "ipython3",
   "version": "3.10.9"
  }
 },
 "nbformat": 4,
 "nbformat_minor": 5
}
