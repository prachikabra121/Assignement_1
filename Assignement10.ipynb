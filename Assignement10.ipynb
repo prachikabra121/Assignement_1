{
 "cells": [
  {
   "cell_type": "markdown",
   "id": "63aff57c",
   "metadata": {},
   "source": [
    "1. What is the role of try and exception block?"
   ]
  },
  {
   "cell_type": "markdown",
   "id": "2292926e",
   "metadata": {},
   "source": [
    "In Python, the try-except block is used for exception handling, which allows you to catch and handle exceptions (runtime errors) that may occur during the execution of your code. The purpose of using a try-except block is to prevent your program from terminating abruptly when an exception is encountered and instead handle the exception gracefully."
   ]
  },
  {
   "cell_type": "markdown",
   "id": "192403e8",
   "metadata": {},
   "source": [
    "2. What is the syntax for a basic try-except block?"
   ]
  },
  {
   "cell_type": "code",
   "execution_count": 1,
   "id": "6b1cd7cb",
   "metadata": {},
   "outputs": [
    {
     "ename": "IndentationError",
     "evalue": "expected an indented block after 'try' statement on line 3 (4233275859.py, line 6)",
     "output_type": "error",
     "traceback": [
      "\u001b[1;36m  Cell \u001b[1;32mIn[1], line 6\u001b[1;36m\u001b[0m\n\u001b[1;33m    except ExceptionType:\u001b[0m\n\u001b[1;37m    ^\u001b[0m\n\u001b[1;31mIndentationError\u001b[0m\u001b[1;31m:\u001b[0m expected an indented block after 'try' statement on line 3\n"
     ]
    }
   ],
   "source": [
    "#The basic structure of a try-except block in Python is as follows:\n",
    "\n",
    "try:\n",
    "    # Code that may raise an exception\n",
    "    # ...\n",
    "except ExceptionType:\n",
    "    # Code to handle the exception\n",
    "    # ...\n"
   ]
  },
  {
   "cell_type": "markdown",
   "id": "03348ee2",
   "metadata": {},
   "source": [
    "3. What happens if an exception occurs inside a try block and there is no matching\n",
    "except block?"
   ]
  },
  {
   "cell_type": "markdown",
   "id": "e4faa176",
   "metadata": {},
   "source": [
    "If an exception occurs inside a try block and there is no matching except block to handle that specific type of exception, the exception will propagate up the call stack until it is caught by a higher-level exception handler. This process is known as exception propagation.\n",
    "\n",
    "If the exception is not caught anywhere in the program, it will ultimately result in the termination of the program, and an error message will be displayed, indicating the type of exception and the corresponding traceback.\n",
    "\n",
    "The error message will provide information about the unhandled exception, including the exception type, the line number where the exception occurred, and the traceback, which shows the sequence of function calls leading to the exception."
   ]
  },
  {
   "cell_type": "markdown",
   "id": "6d38d9e0",
   "metadata": {},
   "source": [
    "4. What is the difference between using a bare except block and specifying a specific\n",
    "exception type?"
   ]
  },
  {
   "cell_type": "markdown",
   "id": "84c557c9",
   "metadata": {},
   "source": [
    "In Python, when using a try-except block for exception handling, you have the option to either specify a specific exception type or use a bare except block. The main difference between the two approaches lies in the level of control and specificity in handling exceptions.\n",
    "\n",
    "1)Specifying a specific exception type:\n",
    "\n",
    "When you specify a specific exception type, such as ValueError, ZeroDivisionError, or FileNotFoundError, the except block will only handle exceptions of that particular type or its derived types. It allows you to provide tailored exception handling for the specific exception, including specific error messages or recovery actions. This approach is generally considered more precise and safer since you explicitly handle known exceptions.\n",
    "\n",
    "2)Using a bare except block:\n",
    "\n",
    "When you use a bare except block without specifying any exception type, it acts as a catch-all for any exception that may occur within the try block. It will handle any type of exception, regardless of its specific type. This approach can be useful when you want to provide a general handling mechanism for all exceptions, such as logging the error, displaying a generic error message, or performing some cleanup actions. However, it is generally discouraged to use a bare except block because it can mask errors and make it harder to identify and debug specific issues in your code."
   ]
  },
  {
   "cell_type": "markdown",
   "id": "0c2c452a",
   "metadata": {},
   "source": [
    "5. Can you have nested try-except blocks in Python? If yes, then give an example."
   ]
  },
  {
   "cell_type": "markdown",
   "id": "b75ee9a4",
   "metadata": {},
   "source": [
    "Yes, it is possible to have nested try-except blocks in Python. This means you can have a try-except block inside another try-except block. Nesting try-except blocks allows you to handle exceptions at different levels of code execution, providing more granular error handling."
   ]
  },
  {
   "cell_type": "code",
   "execution_count": 2,
   "id": "31d61cc2",
   "metadata": {},
   "outputs": [
    {
     "name": "stdout",
     "output_type": "stream",
     "text": [
      "Error: Division by zero occurred inside the inner try block\n",
      "This line is executed after the inner try-except block\n",
      "This line is executed after the outer try-except block\n"
     ]
    }
   ],
   "source": [
    "try:\n",
    "    # Outer try block\n",
    "    numerator = 10\n",
    "    denominator = 0\n",
    "\n",
    "    try:\n",
    "        # Inner try block\n",
    "        result = numerator / denominator\n",
    "        print(\"Result:\", result)\n",
    "    except ZeroDivisionError:\n",
    "        print(\"Error: Division by zero occurred inside the inner try block\")\n",
    "    \n",
    "    print(\"This line is executed after the inner try-except block\")\n",
    "\n",
    "except ZeroDivisionError:\n",
    "    print(\"Error: Division by zero occurred inside the outer try block\")\n",
    "\n",
    "print(\"This line is executed after the outer try-except block\")\n"
   ]
  },
  {
   "cell_type": "markdown",
   "id": "87e8d56c",
   "metadata": {},
   "source": [
    "6. Can we use multiple exception blocks, if yes then give an example."
   ]
  },
  {
   "cell_type": "markdown",
   "id": "7fb654ad",
   "metadata": {},
   "source": [
    "Yes, you can use multiple except blocks in a try-except statement to handle different types of exceptions. This allows you to provide specific exception handling for each exception type."
   ]
  },
  {
   "cell_type": "code",
   "execution_count": 5,
   "id": "6c09ce2e",
   "metadata": {},
   "outputs": [
    {
     "name": "stdout",
     "output_type": "stream",
     "text": [
      "Enter a number: 0\n",
      "Error: Division by zero is not allowed.\n"
     ]
    }
   ],
   "source": [
    "try:\n",
    "    # Code that may raise exceptions\n",
    "    number = int(input(\"Enter a number: \"))\n",
    "    \n",
    "    result = 10 / number\n",
    "    print(\"Result:\", result)\n",
    "    \n",
    "except ValueError:\n",
    "    print(\"Error: Invalid input. Please enter a valid integer.\")\n",
    "    \n",
    "except ZeroDivisionError:\n",
    "    print(\"Error: Division by zero is not allowed.\")\n"
   ]
  },
  {
   "cell_type": "markdown",
   "id": "bf7d7547",
   "metadata": {},
   "source": [
    "7. Write the reason due to which following errors are raised:\n",
    "a. EOFError\n",
    "b. FloatingPointError\n",
    "c. IndexError\n",
    "d. MemoryError\n",
    "e. OverflowError\n",
    "f. TabError\n",
    "g. ValueError"
   ]
  },
  {
   "cell_type": "markdown",
   "id": "8671a458",
   "metadata": {},
   "source": [
    "Here are the reasons why each of the listed errors may be raised:\n",
    "\n",
    "a. EOFError: This error occurs when the input() function or raw_input() (Python 2) function reaches the end of the file (EOF) and tries to read more input. It typically happens when you expect more input but reach the end unexpectedly.\n",
    "\n",
    "b. FloatingPointError: This error is raised when a floating-point operation fails to execute correctly. It usually occurs due to exceptional floating-point conditions such as overflow, underflow, or division by zero.\n",
    "\n",
    "c. IndexError: This error is raised when you try to access an index of a sequence (e.g., list, tuple, string) that is outside the valid range of indices. It happens when you try to access an element at an index that doesn't exist.\n",
    "\n",
    "d. MemoryError: This error occurs when your program runs out of available memory to allocate for new objects. It happens when the system is unable to fulfill a memory allocation request due to insufficient memory resources.\n",
    "\n",
    "e. OverflowError: This error is raised when a mathematical operation results in a value that exceeds the maximum representable value for a numeric type. It typically occurs when performing arithmetic operations with very large numbers.\n",
    "\n",
    "f. TabError: This error occurs when there are inconsistencies or incorrect usage of tabs and spaces for indentation in Python code. It typically arises when mixing tabs and spaces in the same block of code or when the indentation is not aligned properly.\n",
    "\n",
    "g. ValueError: This error is raised when a function receives an argument of the correct type but an invalid value. It indicates that the argument's value is inappropriate or out of the expected range for the specific function or operation."
   ]
  },
  {
   "cell_type": "markdown",
   "id": "831b229b",
   "metadata": {},
   "source": [
    "8. Write code for the following given scenario and add try-exception block to it.\n",
    "\n",
    "a. Program to divide two numbers\n",
    "\n",
    "b. Program to convert a string to an integer\n",
    "\n",
    "c. Program to access an element in a list\n",
    "\n",
    "d. Program to handle a specific exception\n",
    "\n",
    "e. Program to handle any exception"
   ]
  },
  {
   "cell_type": "code",
   "execution_count": 7,
   "id": "88a908cc",
   "metadata": {},
   "outputs": [
    {
     "name": "stdout",
     "output_type": "stream",
     "text": [
      "Enter the numerator: 6\n",
      "Enter the denominator: 0\n",
      "Error: Division by zero is not allowed.\n"
     ]
    }
   ],
   "source": [
    "#a. Program to divide two numbers:\n",
    "\n",
    "try:\n",
    "    numerator = int(input(\"Enter the numerator: \"))\n",
    "    denominator = int(input(\"Enter the denominator: \"))\n",
    "    \n",
    "    result = numerator / denominator\n",
    "    print(\"Result:\", result)\n",
    "    \n",
    "except ZeroDivisionError:\n",
    "    print(\"Error: Division by zero is not allowed.\")\n"
   ]
  },
  {
   "cell_type": "code",
   "execution_count": 9,
   "id": "0db3cd45",
   "metadata": {},
   "outputs": [
    {
     "name": "stdout",
     "output_type": "stream",
     "text": [
      "Enter a number: 7a\n",
      "Error: Invalid input. Please enter a valid integer.\n"
     ]
    }
   ],
   "source": [
    "#b. Program to convert a string to an integer:\n",
    "try:\n",
    "    string_num = input(\"Enter a number: \")\n",
    "    integer_num = int(string_num)\n",
    "    print(\"Integer:\", integer_num)\n",
    "    \n",
    "except ValueError:\n",
    "    print(\"Error: Invalid input. Please enter a valid integer.\")\n"
   ]
  },
  {
   "cell_type": "code",
   "execution_count": 11,
   "id": "9e2158ab",
   "metadata": {},
   "outputs": [
    {
     "name": "stdout",
     "output_type": "stream",
     "text": [
      "Enter an index: 8\n",
      "Error: Index out of range.\n"
     ]
    }
   ],
   "source": [
    "#c. Program to access an element in a list:\n",
    "try:\n",
    "    my_list = [1, 2, 3, 4, 5]\n",
    "    index = int(input(\"Enter an index: \"))\n",
    "    \n",
    "    element = my_list[index]\n",
    "    print(\"Element at index\", index, \"is\", element)\n",
    "    \n",
    "except IndexError:\n",
    "    print(\"Error: Index out of range.\")\n"
   ]
  },
  {
   "cell_type": "code",
   "execution_count": 12,
   "id": "012cda92",
   "metadata": {},
   "outputs": [
    {
     "name": "stdout",
     "output_type": "stream",
     "text": [
      "Error: File not found.\n"
     ]
    }
   ],
   "source": [
    "#d. Program to handle a specific exception:\n",
    "try:\n",
    "    # Code that may raise a specific exception\n",
    "    file = open(\"nonexistent.txt\", \"r\")\n",
    "    content = file.read()\n",
    "    file.close()\n",
    "    \n",
    "except FileNotFoundError:\n",
    "    print(\"Error: File not found.\")\n"
   ]
  },
  {
   "cell_type": "code",
   "execution_count": 13,
   "id": "ea2d7fbf",
   "metadata": {},
   "outputs": [
    {
     "name": "stdout",
     "output_type": "stream",
     "text": [
      "An error occurred: division by zero\n"
     ]
    }
   ],
   "source": [
    "#e. Program to handle any exception:\n",
    "try:\n",
    "    # Code that may raise any exception\n",
    "    x = 10 / 0\n",
    "    \n",
    "except Exception as e:\n",
    "    print(\"An error occurred:\", str(e))\n"
   ]
  },
  {
   "cell_type": "code",
   "execution_count": null,
   "id": "feb1b53d",
   "metadata": {},
   "outputs": [],
   "source": []
  }
 ],
 "metadata": {
  "kernelspec": {
   "display_name": "Python 3 (ipykernel)",
   "language": "python",
   "name": "python3"
  },
  "language_info": {
   "codemirror_mode": {
    "name": "ipython",
    "version": 3
   },
   "file_extension": ".py",
   "mimetype": "text/x-python",
   "name": "python",
   "nbconvert_exporter": "python",
   "pygments_lexer": "ipython3",
   "version": "3.10.9"
  }
 },
 "nbformat": 4,
 "nbformat_minor": 5
}
